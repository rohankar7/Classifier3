{
 "cells": [
  {
   "cell_type": "markdown",
   "metadata": {},
   "source": [
    "Importing the required libraries"
   ]
  },
  {
   "cell_type": "code",
   "execution_count": 1,
   "metadata": {},
   "outputs": [],
   "source": [
    "import os\n",
    "import json\n",
    "import trimesh\n",
    "import torch\n",
    "from torch import nn\n",
    "from torch.utils.data import DataLoader, Dataset\n",
    "from sklearn.model_selection import train_test_split\n",
    "from sklearn.metrics import accuracy_score, precision_score, recall_score, f1_score, confusion_matrix"
   ]
  },
  {
   "cell_type": "markdown",
   "metadata": {},
   "source": [
    "Reading the category labels from the saved json file"
   ]
  },
  {
   "cell_type": "code",
   "execution_count": 2,
   "metadata": {},
   "outputs": [],
   "source": [
    "# Loading the ShapeNetCore labels\n",
    "with open('./labels.json', 'r') as json_file:\n",
    "    labels = json.load(json_file)"
   ]
  },
  {
   "cell_type": "markdown",
   "metadata": {},
   "source": [
    "Setting the device"
   ]
  },
  {
   "cell_type": "code",
   "execution_count": 3,
   "metadata": {},
   "outputs": [],
   "source": [
    "device = torch.device('cuda:0' if torch.cuda.is_available() else 'cpu')"
   ]
  },
  {
   "cell_type": "markdown",
   "metadata": {},
   "source": [
    "Creating a ShapeNetDataset class for sampling points from meshes"
   ]
  },
  {
   "cell_type": "code",
   "execution_count": 4,
   "metadata": {},
   "outputs": [],
   "source": [
    "class ShapeNetDataset(Dataset):\n",
    "    def __init__(self, file_paths, labels):\n",
    "        self.file_paths = file_paths\n",
    "        self.labels = labels\n",
    "\n",
    "    def __len__(self):\n",
    "        return len(self.file_paths)\n",
    "\n",
    "    def __getitem__(self, idx):\n",
    "        path = self.file_paths[idx]\n",
    "        mesh = trimesh.load(path, force='mesh')\n",
    "        points = mesh.sample(1024)  # Sample 1024 points from the mesh\n",
    "        points = torch.tensor(points, dtype=torch.float32)\n",
    "        label = self.labels[idx]\n",
    "        return points, label"
   ]
  },
  {
   "cell_type": "markdown",
   "metadata": {},
   "source": [
    "Creating and loading the datasets as training, validation, and testing datasets"
   ]
  },
  {
   "cell_type": "code",
   "execution_count": 5,
   "metadata": {},
   "outputs": [],
   "source": [
    "def load_data(root_dir):\n",
    "    file_paths = []\n",
    "    labels = []\n",
    "    label_map = {}\n",
    "    for idx, directory in enumerate(sorted(os.listdir(root_dir))):\n",
    "        dir_path = os.path.join(root_dir, directory)\n",
    "        if os.path.isdir(dir_path):\n",
    "            label_map[directory] = idx\n",
    "            for models in os.listdir(dir_path):\n",
    "                model_directory = os.path.join(dir_path, models, 'models/model_normalized.obj')\n",
    "                if os.path.isfile(model_directory):\n",
    "                    file_paths.append(model_directory)\n",
    "                    labels.append(idx)\n",
    "    return file_paths, labels, label_map\n",
    "\n",
    "def create_datasets(root_dir, test_size=0.2, val_size=0.1):\n",
    "    file_paths, labels, label_map = load_data(root_dir)\n",
    "    # Splitting dataset into train, validation, and test sets\n",
    "    train_paths, test_paths, train_labels, test_labels = train_test_split(file_paths, labels, test_size=test_size, random_state=42)\n",
    "    train_paths, val_paths, train_labels, val_labels = train_test_split(train_paths, train_labels, test_size=val_size / (1 - test_size), random_state=42)\n",
    "\n",
    "    train_dataset = ShapeNetDataset(train_paths, train_labels)\n",
    "    val_dataset = ShapeNetDataset(val_paths, val_labels)\n",
    "    test_dataset = ShapeNetDataset(test_paths, test_labels)\n",
    "    return train_dataset, val_dataset, test_dataset, label_map"
   ]
  },
  {
   "cell_type": "markdown",
   "metadata": {},
   "source": [
    "Creating the dataloaders"
   ]
  },
  {
   "cell_type": "code",
   "execution_count": 6,
   "metadata": {},
   "outputs": [],
   "source": [
    "root_dir = 'C:/ShapeNetCore'  # ShapeNetCore directory\n",
    "# root_dir = 'C:/Users/rohan/OneDrive/Desktop/ShapeNet'\n",
    "train_dataset, val_dataset, test_dataset, label_map = create_datasets(root_dir)\n",
    "\n",
    "train_loader = DataLoader(train_dataset, batch_size=10, shuffle=True)\n",
    "val_loader = DataLoader(val_dataset, batch_size=10, shuffle=False)\n",
    "test_loader = DataLoader(test_dataset, batch_size=10, shuffle=False)"
   ]
  },
  {
   "cell_type": "markdown",
   "metadata": {},
   "source": [
    "Saving and loading model checkpoints"
   ]
  },
  {
   "cell_type": "code",
   "execution_count": 7,
   "metadata": {},
   "outputs": [],
   "source": [
    "def save_checkpoint(state, filename):\n",
    "    \"\"\"Save a model checkpoint.\"\"\"\n",
    "    os.makedirs('./checkpoints', exist_ok=True)\n",
    "    torch.save(state, os.path.join('./checkpoints', filename))\n",
    "\n",
    "def load_checkpoint(filepath, model, optimizer=None):\n",
    "    \"\"\"Load model checkpoint.\"\"\"\n",
    "    if not os.path.isfile(filepath):\n",
    "        print(f\"No checkpoint found at '{filepath}'\")\n",
    "        return None\n",
    "\n",
    "    checkpoint = torch.load(filepath)\n",
    "    model.load_state_dict(checkpoint['state_dict'])\n",
    "    model.to(device)\n",
    "    if optimizer:\n",
    "        optimizer.load_state_dict(checkpoint['optimizer'])\n",
    "\n",
    "    print(f\"Loaded checkpoint '{filepath}' (epoch {checkpoint['epoch']})\")\n",
    "    return checkpoint"
   ]
  },
  {
   "cell_type": "markdown",
   "metadata": {},
   "source": [
    "Training and Testing functions for the model"
   ]
  },
  {
   "cell_type": "code",
   "execution_count": 8,
   "metadata": {},
   "outputs": [],
   "source": [
    "def train_model(model, train_loader, val_loader, num_epochs=25, save_path='model_checkpoint.pth'):\n",
    "    optimizer = torch.optim.Adam(model.parameters(), lr=0.001)\n",
    "    criterion = torch.nn.CrossEntropyLoss()\n",
    "    best_val_loss = float('inf')\n",
    "\n",
    "    for epoch in range(num_epochs):\n",
    "        model.train()\n",
    "        total_train_loss = 0\n",
    "\n",
    "        for points, labels in train_loader:\n",
    "            points, labels = points.to(device), labels.to(device)\n",
    "            optimizer.zero_grad()\n",
    "            outputs = model(points)\n",
    "            loss = criterion(outputs, labels)\n",
    "            loss.backward()\n",
    "            optimizer.step()\n",
    "            total_train_loss += loss.item()\n",
    "\n",
    "        # Validation\n",
    "        model.eval()\n",
    "        total_val_loss = 0\n",
    "        with torch.no_grad():\n",
    "            for points, labels in val_loader:\n",
    "                points, labels = points.to(device), labels.to(device)\n",
    "                outputs = model(points)\n",
    "                loss = criterion(outputs, labels)\n",
    "                total_val_loss += loss.item()\n",
    "\n",
    "        average_val_loss = total_val_loss / len(val_loader)\n",
    "\n",
    "        # Print training and validation loss\n",
    "        print(f\"Epoch {epoch+1}, Train Loss: {total_train_loss/len(train_loader)}, Validation Loss: {average_val_loss}\")\n",
    "        \n",
    "        # Checking updates in validation loss\n",
    "        if average_val_loss < best_val_loss:\n",
    "            print(f\"Validation loss decreased ({best_val_loss} --> {average_val_loss}). Saving checkpoint\")\n",
    "            best_val_loss = average_val_loss\n",
    "            # Save checkpoint\n",
    "            save_checkpoint({\n",
    "                'epoch': epoch + 1,\n",
    "                'state_dict': model.state_dict(),\n",
    "                'best_val_loss': best_val_loss,\n",
    "                'optimizer': optimizer.state_dict(),\n",
    "            }, filename=save_path)\n",
    "\n",
    "def test_model(model, test_loader):\n",
    "    model.eval()\n",
    "    total_test_loss = 0\n",
    "    pred_labels = []\n",
    "    actual_labels = []\n",
    "    criterion = torch.nn.CrossEntropyLoss()\n",
    "\n",
    "    with torch.no_grad():\n",
    "        for points, labels in test_loader:\n",
    "            points, labels = points.to(device), labels.to(device)\n",
    "            outputs = model(points)\n",
    "            loss = criterion(outputs, labels)\n",
    "            total_test_loss += loss.item()\n",
    "            _, predicted = torch.max(outputs.data, 1)\n",
    "            pred_labels.extend(predicted.cpu().numpy())\n",
    "            actual_labels.extend(labels.cpu().numpy())\n",
    "\n",
    "    print('Test Scores:-')\n",
    "    print(f\"Accuracy: {accuracy_score(actual_labels, pred_labels)}\")\n",
    "    print(f\"Precision: {precision_score(actual_labels, pred_labels, average='macro', zero_division=1)}\")\n",
    "    print(f\"Recall: {recall_score(actual_labels, pred_labels, average='macro')}\")\n",
    "    print(f\"F1 Score: {f1_score(actual_labels, pred_labels, average='macro')}\")\n",
    "    print(\"Confusion Matrix:\\n\", confusion_matrix(actual_labels, pred_labels))\n",
    "    print(f\"Test Loss: {total_test_loss/len(test_loader)}\")"
   ]
  },
  {
   "cell_type": "markdown",
   "metadata": {},
   "source": [
    "Defining the Neural Network"
   ]
  },
  {
   "cell_type": "code",
   "execution_count": 9,
   "metadata": {},
   "outputs": [],
   "source": [
    "class ThreeDClassifier(nn.Module):\n",
    "    def __init__(self, num_classes, dropout_prob=0.3):\n",
    "        super().__init__()\n",
    "        self.fc1 = nn.Linear(1024 * 3, 512)\n",
    "        self.fc2 = nn.Linear(512, 256)\n",
    "        self.fc3 = nn.Linear(256, num_classes)\n",
    "        self.dropout = nn.Dropout(p=dropout_prob)\n",
    "        self.relu = nn.ReLU()\n",
    "        self.log_softmax = nn.LogSoftmax(dim=1)  # Applies LogSoftmax on each output\n",
    "\n",
    "    def forward(self, x):\n",
    "        x = x.reshape(x.size(0), -1)  # Flatten the points\n",
    "        x = self.relu(self.fc1(x))\n",
    "        x = self.dropout(x)  # Apply dropout after first ReLU activation\n",
    "        x = self.relu(self.fc2(x))\n",
    "        x = self.dropout(x)  # Apply dropout after second ReLU activation\n",
    "        x = self.fc3(x)\n",
    "        x = self.log_softmax(x)  # Apply LogSoftmax after the final linear layer\n",
    "        return x"
   ]
  },
  {
   "cell_type": "markdown",
   "metadata": {},
   "source": [
    "Training the model"
   ]
  },
  {
   "cell_type": "code",
   "execution_count": 10,
   "metadata": {},
   "outputs": [
    {
     "name": "stdout",
     "output_type": "stream",
     "text": [
      "Epoch 1, Train Loss: 2.8292373881299784, Validation Loss: 2.571763321331569\n",
      "Validation loss decreased (inf --> 2.571763321331569). Saving checkpoint\n",
      "Epoch 2, Train Loss: 2.5502274804306135, Validation Loss: 2.3479396633874803\n",
      "Validation loss decreased (2.571763321331569 --> 2.3479396633874803). Saving checkpoint\n",
      "Epoch 3, Train Loss: 2.3929658241827614, Validation Loss: 2.18578534693945\n",
      "Validation loss decreased (2.3479396633874803 --> 2.18578534693945). Saving checkpoint\n",
      "Epoch 4, Train Loss: 2.3074664202529664, Validation Loss: 2.1837177371978758\n",
      "Validation loss decreased (2.18578534693945 --> 2.1837177371978758). Saving checkpoint\n",
      "Epoch 5, Train Loss: 2.2468539809064194, Validation Loss: 2.072497758751824\n",
      "Validation loss decreased (2.1837177371978758 --> 2.072497758751824). Saving checkpoint\n",
      "Epoch 6, Train Loss: 2.2045241302863605, Validation Loss: 2.013725819360642\n",
      "Validation loss decreased (2.072497758751824 --> 2.013725819360642). Saving checkpoint\n",
      "Epoch 7, Train Loss: 2.16223620148079, Validation Loss: 1.962147035598755\n",
      "Validation loss decreased (2.013725819360642 --> 1.962147035598755). Saving checkpoint\n",
      "Epoch 8, Train Loss: 2.1488583395437617, Validation Loss: 1.9432963317916507\n",
      "Validation loss decreased (1.962147035598755 --> 1.9432963317916507). Saving checkpoint\n",
      "Epoch 9, Train Loss: 2.098392160864445, Validation Loss: 1.8919919061660766\n",
      "Validation loss decreased (1.9432963317916507 --> 1.8919919061660766). Saving checkpoint\n",
      "Epoch 10, Train Loss: 2.100799362827574, Validation Loss: 1.9234263580186026\n",
      "Epoch 11, Train Loss: 2.0925989780476657, Validation Loss: 1.8716555154891241\n",
      "Validation loss decreased (1.8919919061660766 --> 1.8716555154891241). Saving checkpoint\n",
      "Epoch 12, Train Loss: 2.0950160059492693, Validation Loss: 1.876894434293111\n",
      "Epoch 13, Train Loss: 2.075888557538589, Validation Loss: 1.8682170576140995\n",
      "Validation loss decreased (1.8716555154891241 --> 1.8682170576140995). Saving checkpoint\n",
      "Epoch 14, Train Loss: 2.063218817573265, Validation Loss: 1.8654410506430126\n",
      "Validation loss decreased (1.8682170576140995 --> 1.8654410506430126). Saving checkpoint\n",
      "Epoch 15, Train Loss: 2.069051284508325, Validation Loss: 1.8372585866564797\n",
      "Validation loss decreased (1.8654410506430126 --> 1.8372585866564797). Saving checkpoint\n",
      "Epoch 16, Train Loss: 2.0543672915638354, Validation Loss: 1.849631878080822\n",
      "Epoch 17, Train Loss: 2.0444664409723394, Validation Loss: 1.8249268161682854\n",
      "Validation loss decreased (1.8372585866564797 --> 1.8249268161682854). Saving checkpoint\n",
      "Epoch 18, Train Loss: 2.0494236543332396, Validation Loss: 1.8477715556962149\n",
      "Epoch 19, Train Loss: 2.046294916107776, Validation Loss: 1.829368817465646\n",
      "Epoch 20, Train Loss: 2.0433587819102543, Validation Loss: 1.795126990136646\n",
      "Validation loss decreased (1.8249268161682854 --> 1.795126990136646). Saving checkpoint\n",
      "Epoch 21, Train Loss: 2.0361347996893224, Validation Loss: 1.8188741090184166\n",
      "Epoch 22, Train Loss: 2.0400678798933622, Validation Loss: 1.8215609510739645\n",
      "Epoch 23, Train Loss: 2.0342299257121876, Validation Loss: 1.8050968190601895\n",
      "Epoch 24, Train Loss: 2.0367256231279423, Validation Loss: 1.7743772468112764\n",
      "Validation loss decreased (1.795126990136646 --> 1.7743772468112764). Saving checkpoint\n",
      "Epoch 25, Train Loss: 2.0426719824170143, Validation Loss: 1.7994088054838635\n"
     ]
    }
   ],
   "source": [
    "model = ThreeDClassifier(num_classes=len(label_map)).to(device)\n",
    "train_model(model, train_loader, val_loader, num_epochs=25)"
   ]
  },
  {
   "cell_type": "markdown",
   "metadata": {},
   "source": [
    "Testing the model"
   ]
  },
  {
   "cell_type": "code",
   "execution_count": 11,
   "metadata": {},
   "outputs": [
    {
     "name": "stdout",
     "output_type": "stream",
     "text": [
      "Test Scores:-\n",
      "Accuracy: 0.4782277274892806\n",
      "Precision: 0.7220546794631302\n",
      "Recall: 0.13433136439739737\n",
      "F1 Score: 0.13228130375770727\n",
      "Confusion Matrix:\n",
      " [[710   0   0 ...   0  20   0]\n",
      " [  0   0   0 ...   0   0   0]\n",
      " [  0   0   0 ...   0   0   0]\n",
      " ...\n",
      " [  0   0   0 ...   9   2   0]\n",
      " [ 17   0   0 ...   5 110   0]\n",
      " [  0   0   0 ...   0   0   0]]\n",
      "Test Loss: 1.793131581175895\n"
     ]
    }
   ],
   "source": [
    "test_model(model, test_loader)"
   ]
  },
  {
   "cell_type": "markdown",
   "metadata": {},
   "source": [
    "Predicting the ShapeNet class label for a 3D object"
   ]
  },
  {
   "cell_type": "code",
   "execution_count": 12,
   "metadata": {},
   "outputs": [],
   "source": [
    "def predict_3d_model(model, file_path, label_map):\n",
    "    \"\"\"\n",
    "    Predict the class of a 3D model given its file path.\n",
    "    \n",
    "    Args:\n",
    "    - model: Trained PyTorch model for prediction.\n",
    "    - file_path: Path to the .obj file to be predicted.\n",
    "    - label_map: Dictionary mapping class indices back to labels.\n",
    "    \n",
    "    Returns:\n",
    "    - label: Predicted class label of the 3D model.\n",
    "    \"\"\"\n",
    "    model.eval()  # Set model to evaluation mode\n",
    "    try:\n",
    "        # Load and preprocess the mesh\n",
    "        mesh = trimesh.load(file_path, force='mesh')\n",
    "        points = mesh.sample(1024)  # Sample points as done in training\n",
    "        points = torch.tensor(points, dtype=torch.float32)\n",
    "        points = points.unsqueeze(0).to(device)  # Add batch dimension\n",
    "        \n",
    "        # Predict using the model\n",
    "        with torch.no_grad():\n",
    "            outputs = model(points)\n",
    "            _, predicted_idx = torch.max(outputs, 1)\n",
    "            predicted_label = list(label_map.keys())[list(label_map.values()).index(predicted_idx.item())]\n",
    "\n",
    "        return predicted_label\n",
    "    except Exception as e:\n",
    "        print(f\"An error occurred: {e}\")\n",
    "        return None"
   ]
  },
  {
   "cell_type": "markdown",
   "metadata": {},
   "source": [
    "Loading from a saved checkpoint and predicting classes"
   ]
  },
  {
   "cell_type": "code",
   "execution_count": 21,
   "metadata": {},
   "outputs": [
    {
     "name": "stdout",
     "output_type": "stream",
     "text": [
      "Loaded checkpoint './checkpoints/model_checkpoint.pth' (epoch 24)\n",
      "Successfully loaded model and optimizer states\n",
      "The predicted class label for the model is: chair\n"
     ]
    }
   ],
   "source": [
    "# Loading the trained model\n",
    "model = ThreeDClassifier(num_classes=len(label_map))\n",
    "model.to(device)\n",
    "optimizer = torch.optim.Adam(model.parameters())\n",
    "\n",
    "# Loading the checkpoint\n",
    "checkpoint = load_checkpoint('./checkpoints/model_checkpoint.pth', model, optimizer)\n",
    "if checkpoint:\n",
    "    print(\"Successfully loaded model and optimizer states\")\n",
    "\n",
    "# Path to the 3D model whose class is to be predicted\n",
    "file_path = \"C:/ShapeNetCore/02747177/ffe5f0ef45769204cb2a965e75be701c/models/model_normalized.obj\"\n",
    "\n",
    "# Predicting the label\n",
    "predicted_label = predict_3d_model(model, file_path, label_map)\n",
    "print(f\"The predicted class label for the model is: {labels[predicted_label]}\")"
   ]
  },
  {
   "cell_type": "markdown",
   "metadata": {},
   "source": [
    "Saving the entire model"
   ]
  },
  {
   "cell_type": "code",
   "execution_count": 22,
   "metadata": {},
   "outputs": [],
   "source": [
    "os.makedirs('./models', exist_ok=True)\n",
    "model.to('cpu')\n",
    "torch.save(model, './models/entire_model.pth')"
   ]
  },
  {
   "cell_type": "code",
   "execution_count": null,
   "metadata": {},
   "outputs": [],
   "source": [
    "# TODO\n",
    "# Improve model accuracy and other metrics\n",
    "# Issue: Model predicts 'chair' class for almost all items"
   ]
  }
 ],
 "metadata": {
  "kernelspec": {
   "display_name": "classifier",
   "language": "python",
   "name": "python3"
  },
  "language_info": {
   "codemirror_mode": {
    "name": "ipython",
    "version": 3
   },
   "file_extension": ".py",
   "mimetype": "text/x-python",
   "name": "python",
   "nbconvert_exporter": "python",
   "pygments_lexer": "ipython3",
   "version": "3.9.19"
  }
 },
 "nbformat": 4,
 "nbformat_minor": 2
}
